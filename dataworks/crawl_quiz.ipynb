{
 "cells": [
  {
   "cell_type": "code",
   "execution_count": 20,
   "metadata": {},
   "outputs": [
    {
     "name": "stdout",
     "output_type": "stream",
     "text": [
      "관람시간   월/화/목/금/일 10:00 ~ 18:00 수/토 10:00 ~ 21:00    * 입장 마감은 폐관30분 전까지\n",
      "관람료   무료 특별전시는 유료\n"
     ]
    }
   ],
   "source": [
    "import requests\n",
    "from bs4 import BeautifulSoup\n",
    "\n",
    "url = \"https://www.museum.go.kr/site/main/home\"\n",
    "response = requests.get(url)\n",
    "\n",
    "soup = BeautifulSoup(response.text, 'html.parser')\n",
    "\n",
    "# ul.main-info-area 안에 있는 모든 li 태그를 선택\n",
    "lis = soup.select(\"ul.main-info-area > li\")\n",
    "\n",
    "# 텍스트를 리스트에 저장\n",
    "a = []\n",
    "for li in lis:\n",
    "    text = li.text.strip()  \n",
    "    text = text.replace('\\n', ' ').replace('\\t', '').replace('\\xa0', ' ')\n",
    "    a.append(text)\n",
    "\n",
    "for b in a:\n",
    "    print(b)\n",
    "\n",
    "\n"
   ]
  }
 ],
 "metadata": {
  "kernelspec": {
   "display_name": "base",
   "language": "python",
   "name": "python3"
  },
  "language_info": {
   "codemirror_mode": {
    "name": "ipython",
    "version": 3
   },
   "file_extension": ".py",
   "mimetype": "text/x-python",
   "name": "python",
   "nbconvert_exporter": "python",
   "pygments_lexer": "ipython3",
   "version": "3.12.4"
  }
 },
 "nbformat": 4,
 "nbformat_minor": 2
}
