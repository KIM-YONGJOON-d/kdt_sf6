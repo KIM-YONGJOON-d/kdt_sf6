{
 "cells": [
  {
   "cell_type": "markdown",
   "id": "b4c7681d-26c9-41f2-8bb4-bd43c2ab211c",
   "metadata": {},
   "source": [
    "##### pandas - DataFrame 클래스 : 행(row)과 열(column)로 이루어진 2차원 리스트이다."
   ]
  },
  {
   "cell_type": "code",
   "execution_count": 4,
   "id": "f4e54f2c-dcc5-4635-aa73-8a7c4a2a245a",
   "metadata": {},
   "outputs": [
    {
     "data": {
      "text/html": [
       "<div>\n",
       "<style scoped>\n",
       "    .dataframe tbody tr th:only-of-type {\n",
       "        vertical-align: middle;\n",
       "    }\n",
       "\n",
       "    .dataframe tbody tr th {\n",
       "        vertical-align: top;\n",
       "    }\n",
       "\n",
       "    .dataframe thead th {\n",
       "        text-align: right;\n",
       "    }\n",
       "</style>\n",
       "<table border=\"1\" class=\"dataframe\">\n",
       "  <thead>\n",
       "    <tr style=\"text-align: right;\">\n",
       "      <th></th>\n",
       "      <th>영희</th>\n",
       "      <th>철수</th>\n",
       "    </tr>\n",
       "  </thead>\n",
       "  <tbody>\n",
       "    <tr>\n",
       "      <th>2018</th>\n",
       "      <td>143</td>\n",
       "      <td>143</td>\n",
       "    </tr>\n",
       "    <tr>\n",
       "      <th>2019</th>\n",
       "      <td>150</td>\n",
       "      <td>150</td>\n",
       "    </tr>\n",
       "    <tr>\n",
       "      <th>2020</th>\n",
       "      <td>157</td>\n",
       "      <td>157</td>\n",
       "    </tr>\n",
       "    <tr>\n",
       "      <th>2021</th>\n",
       "      <td>160</td>\n",
       "      <td>160</td>\n",
       "    </tr>\n",
       "  </tbody>\n",
       "</table>\n",
       "</div>"
      ],
      "text/plain": [
       "       영희   철수\n",
       "2018  143  143\n",
       "2019  150  150\n",
       "2020  157  157\n",
       "2021  160  160"
      ]
     },
     "execution_count": 4,
     "metadata": {},
     "output_type": "execute_result"
    }
   ],
   "source": [
    "import pandas as pd\n",
    "index=['2018', '2019', '2020', '2021']\n",
    "\n",
    "younghee = pd.Series([143, 150, 157, 160], index=index)\n",
    "cheolsu = pd.Series([165, 172, 175, 180], index=index)\n",
    "\n",
    "growth = pd.DataFrame({\n",
    "    '영희': younghee,\n",
    "    '철수': cheolsu\n",
    "})\n",
    "growth"
   ]
  },
  {
   "cell_type": "code",
   "execution_count": 69,
   "id": "20c5e3b8-35e9-4ee0-aa51-e0660e0e3d09",
   "metadata": {},
   "outputs": [
    {
     "name": "stdout",
     "output_type": "stream",
     "text": [
      "       영희   철수\n",
      "2018  143  165\n",
      "2019  150  172\n",
      "2020  157  175\n",
      "2021  160  180\n",
      "2022  162  181\n",
      "       영희   철수\n",
      "2018  143  165\n",
      "2019  150  172\n",
      "2021  160  180\n",
      "2022  162  181\n"
     ]
    }
   ],
   "source": [
    "# 일반적인 데이터프레임 만들기\n",
    "index=['2018', '2019', '2020', '2021']\n",
    "data = {\n",
    "    '영희':[143, 150, 157, 160],\n",
    "    '철수':[165, 172, 175, 180]\n",
    "}\n",
    "\n",
    "growth = pd.DataFrame(data, index=index)\n",
    "# growth\n",
    "# print(growth.columns)\n",
    "# print(growth.values)\n",
    "\n",
    "# print(growth['철수'])\n",
    "# print(growth[['영희','철수']])\n",
    "# print(growth[['철수']])\n",
    "\n",
    "# print(growth.loc['2020'])\n",
    "# print(growth.iloc[2])\n",
    "\n",
    "# # 다중 행 선택\n",
    "# print(growth.loc[['2020', '2021']])\n",
    "# print(growth.iloc[[2, 3]])\n",
    "growth.loc['2022'] = [162, 181]\n",
    "print(growth)\n",
    "\n",
    "# 복사 - copy()\n",
    "growth2 = growth.copy()\n",
    "growth2 = growth2.drop('2020')\n",
    "print(growth2)"
   ]
  },
  {
   "cell_type": "code",
   "execution_count": 38,
   "id": "a58f7566-a5dc-44f9-b791-cc07be04429f",
   "metadata": {},
   "outputs": [
    {
     "name": "stdout",
     "output_type": "stream",
     "text": [
      "       영희   철수\n",
      "2018  143  165\n",
      "2019  150  172\n",
      "2020  157  175\n",
      "2021  160  180\n"
     ]
    },
    {
     "data": {
      "text/plain": [
       "175"
      ]
     },
     "execution_count": 38,
     "metadata": {},
     "output_type": "execute_result"
    }
   ],
   "source": [
    "index=['2018', '2019', '2020', '2021']\n",
    "data = {\n",
    "    '영희':[143, 150, 157, 160],\n",
    "    '철수':[165, 172, 175, 180]\n",
    "}\n",
    "\n",
    "growth = pd.DataFrame(data, index=index)\n",
    "\n",
    "print(growth)\n",
    "\n",
    "growth.loc['2020', '철수']\n",
    "growth.iloc[2,1]"
   ]
  },
  {
   "cell_type": "markdown",
   "id": "93f8c959-e575-4466-b255-ea5206dc8507",
   "metadata": {},
   "source": [
    "#### 실습 2. 데이터 프레임 만들기 "
   ]
  },
  {
   "cell_type": "code",
   "execution_count": 61,
   "id": "63354388-9160-4aa1-abab-3540009b766e",
   "metadata": {},
   "outputs": [
    {
     "name": "stdout",
     "output_type": "stream",
     "text": [
      "    국어  수학   영어  과학\n",
      "재천  90  80   85  88\n",
      "선영  80  75   95  92\n",
      "일성  70  95  100  85\n",
      "용준  83  87   94  79\n"
     ]
    }
   ],
   "source": [
    "index=['재천', '선영', '일성']\n",
    "data = {\n",
    "    '국어':[90, 80, 70],\n",
    "    '수학':[80, 75, 95],\n",
    "    '영어':[85, 95, 100]\n",
    "}\n",
    "\n",
    "growth = pd.DataFrame(data, index=index)\n",
    "\n",
    "\n",
    "growth['과학'] = [88, 92, 85]\n",
    "growth.loc['용준'] = [83, 87, 94, 79]\n",
    "print(growth)"
   ]
  },
  {
   "cell_type": "code",
   "execution_count": 77,
   "id": "1a729f9e-7c1a-4fa7-ba31-5d2459acd2c9",
   "metadata": {},
   "outputs": [
    {
     "name": "stdout",
     "output_type": "stream",
     "text": [
      "       영희   철수\n",
      "2018  143  165\n",
      "2019  150  172\n",
      "2020  157  175\n",
      "2021  160  180\n"
     ]
    }
   ],
   "source": [
    "# csv 파일 만들기\n",
    "index=['2018', '2019', '2020', '2021']\n",
    "data = {\n",
    "    '영희':[143, 150, 157, 160],\n",
    "    '철수':[165, 172, 175, 180]\n",
    "}\n",
    "\n",
    "growth = pd.DataFrame(data, index=index)\n",
    "# growth.to_csv('./datas/growth.csv')\n",
    "\n",
    "# csv 파일 읽기 - to_read_csv(경로)\n",
    "growth = pd.read_csv('./datas/growth.csv', index_col=0)\n",
    "print(growth)"
   ]
  },
  {
   "cell_type": "code",
   "execution_count": 15,
   "id": "f70ba3c2-efc0-4ef9-8cd7-e50aa22df634",
   "metadata": {},
   "outputs": [
    {
     "name": "stdout",
     "output_type": "stream",
     "text": [
      "       영희   철수   시현\n",
      "2018  143  165  155\n",
      "2019  150  172  160\n",
      "2020  157  175  165\n",
      "2021  160  180  170\n",
      "       영희   철수   시현\n",
      "2018  143  165  155\n",
      "2019  150  172  160\n",
      "2020  157  175  165\n",
      "2021  160  180  170\n",
      "2022  162  181  172\n",
      "       영희   철수   시현\n",
      "2018  143  165  155\n",
      "2019  150  172  160\n",
      "2021  160  180  170\n",
      "2022  162  181  172\n",
      "       영희   시현\n",
      "2018  143  155\n",
      "2019  150  160\n",
      "2020  157  165\n",
      "2021  160  170\n",
      "2022  162  172\n"
     ]
    }
   ],
   "source": [
    "# 2차원 리스트 데이터로 프레임 만들기\n",
    "import pandas as pd\n",
    "data = [[143, 165], [150, 172], [157, 175], [160, 180]]\n",
    "index=['2018', '2019', '2020', '2021']\n",
    "\n",
    "growth = pd.DataFrame(data,columns=['영희','철수'], index=index)\n",
    "# print(growth)\n",
    "# print(growth['영희'])\n",
    "\n",
    "growth['시현'] = [155, 160 , 165, 170]\n",
    "print(growth)\n",
    "\n",
    "growth.loc['2022'] = [162, 181, 172]\n",
    "print(growth)\n",
    "\n",
    "# 복사 - copy()\n",
    "growth2 = growth.copy()\n",
    "growth2 = growth2.drop('2020', axis=0)\n",
    "print(growth2)\n",
    "\n",
    "growth3 = growth.copy()\n",
    "growth3 = growth3.drop('철수', axis=1)\n",
    "print(growth3)"
   ]
  },
  {
   "cell_type": "code",
   "execution_count": 25,
   "id": "c380e771-6164-4ae5-ac7b-12e90ab93b94",
   "metadata": {},
   "outputs": [
    {
     "name": "stdout",
     "output_type": "stream",
     "text": [
      "[1, 10, 3, 4] [1, 10, 3, 4]\n",
      "[1, 2, 3, 4] [1, 10, 3, 4]\n"
     ]
    }
   ],
   "source": [
    "# 얕은 복사와 깊은 복사\n",
    "# 얕은 복사 - 원본도 같이 수정됨, 깊은 복사 - 원본은 유지 copy()\n",
    "a = [1, 2, 3, 4]\n",
    "b = a\n",
    "b[1] = 10\n",
    "print(a, b)\n",
    "c = [1, 2, 3, 4]\n",
    "d= c.copy()\n",
    "d[1] = 10\n",
    "print(c,d)"
   ]
  },
  {
   "cell_type": "code",
   "execution_count": 37,
   "id": "08b9221c-6315-49ef-a50c-643ec5a24ce4",
   "metadata": {},
   "outputs": [
    {
     "name": "stdout",
     "output_type": "stream",
     "text": [
      "       영희   철수\n",
      "연도            \n",
      "2018  143  165\n",
      "2019  150  172\n",
      "2020  157  175\n",
      "2021  160  180\n"
     ]
    }
   ],
   "source": [
    "import pandas as pd\n",
    "\n",
    "# 칼럼을 인덱스로 설정하는 방법\n",
    "data = {\n",
    "    '연도':['2018', '2019', '2020', '2021'],\n",
    "    '영희':[143, 150, 157, 160],\n",
    "    '철수':[165, 172, 175, 180]\n",
    "}\n",
    "\n",
    "growth = pd.DataFrame(data)\n",
    "growth = growth.set_index('연도')\n",
    "print(growth)"
   ]
  }
 ],
 "metadata": {
  "kernelspec": {
   "display_name": "Python 3 (ipykernel)",
   "language": "python",
   "name": "python3"
  },
  "language_info": {
   "codemirror_mode": {
    "name": "ipython",
    "version": 3
   },
   "file_extension": ".py",
   "mimetype": "text/x-python",
   "name": "python",
   "nbconvert_exporter": "python",
   "pygments_lexer": "ipython3",
   "version": "3.12.4"
  }
 },
 "nbformat": 4,
 "nbformat_minor": 5
}
