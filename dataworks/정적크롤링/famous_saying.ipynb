{
 "cells": [
  {
   "cell_type": "code",
   "execution_count": 23,
   "metadata": {},
   "outputs": [
    {
     "data": {
      "text/plain": [
       "['/author/Albert-Einstein',\n",
       " '/author/J-K-Rowling',\n",
       " '/author/Albert-Einstein',\n",
       " '/author/Jane-Austen',\n",
       " '/author/Marilyn-Monroe',\n",
       " '/author/Albert-Einstein',\n",
       " '/author/Andre-Gide',\n",
       " '/author/Thomas-A-Edison',\n",
       " '/author/Eleanor-Roosevelt',\n",
       " '/author/Steve-Martin']"
      ]
     },
     "execution_count": 23,
     "metadata": {},
     "output_type": "execute_result"
    }
   ],
   "source": [
    "import requests as req\n",
    "from bs4 import BeautifulSoup\n",
    "\n",
    "url = \"https://quotes.toscrape.com/\"\n",
    "res = req.get(url)\n",
    "# print(res.text)\n",
    "\n",
    "html = BeautifulSoup(res.text, \"html.parser\")\n",
    "quote_div = html.find_all('div',class_ = 'quote')\n",
    "quote_span = html.find_all('span', class_ = 'text')\n",
    "# print(quote_div)\n",
    "# print(quote_span)\n",
    "\n",
    "quote_text = html.select('div.quote > span.text')\n",
    "# print(quote_text[0].text)\n",
    "[i.text for i in quote_text]\n",
    "\n",
    "# 명언 말한 사람\n",
    "quote_author = html.select('div.quote > span > small.author')\n",
    "# print(quote_author)\n",
    "[i.text for i in quote_author]\n",
    "\n",
    "quote_link = html.select('div.quote > span > a')\n",
    "# print(quote_link[0].attrs)\n",
    "# print(quote_link[0]['href'])\n",
    "[i['href'] for i in quote_link]"
   ]
  }
 ],
 "metadata": {
  "kernelspec": {
   "display_name": "base",
   "language": "python",
   "name": "python3"
  },
  "language_info": {
   "codemirror_mode": {
    "name": "ipython",
    "version": 3
   },
   "file_extension": ".py",
   "mimetype": "text/x-python",
   "name": "python",
   "nbconvert_exporter": "python",
   "pygments_lexer": "ipython3",
   "version": "3.12.4"
  }
 },
 "nbformat": 4,
 "nbformat_minor": 2
}
