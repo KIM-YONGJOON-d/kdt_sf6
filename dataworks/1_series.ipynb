{
 "cells": [
  {
   "cell_type": "markdown",
   "id": "a6091968-abc2-414c-b81b-55ad59036c40",
   "metadata": {},
   "source": [
    "###### Series 클래스 - 데이터(리스트, 튜플, 딕셔너리)가 순차적으로 1차원 리스트 형태를 갖는다."
   ]
  },
  {
   "cell_type": "code",
   "execution_count": 11,
   "id": "2efb081e-717a-4561-8b04-d0400137ff95",
   "metadata": {},
   "outputs": [
    {
     "name": "stdout",
     "output_type": "stream",
     "text": [
      "a    1\n",
      "b    2\n",
      "c    3\n",
      "dtype: int64\n",
      "<class 'pandas.core.series.Series'>\n"
     ]
    }
   ],
   "source": [
    "import pandas as pd\n",
    "\n",
    "dict_data = {'a': 1, 'b': 2, 'c': 3}\n",
    "\n",
    "pd.Series(dict_data)\n",
    "\n",
    "sr = pd.Series(dict_data)\n",
    "print(sr)\n",
    "print(type(sr))"
   ]
  },
  {
   "cell_type": "code",
   "execution_count": 15,
   "id": "72a6ab0c-e6a7-4ee4-aeac-b1fa3b45c4de",
   "metadata": {},
   "outputs": [
    {
     "name": "stdout",
     "output_type": "stream",
     "text": [
      "['2024-08-22' 10 'apple' True]\n"
     ]
    }
   ],
   "source": [
    "# 리스트로 시리즈 만들기\n",
    "list_data = ['2024-08-22', 10, 'apple', True]\n",
    "\n",
    "sr = pd.Series(list_data)\n",
    "# print(sr)\n",
    "# print(sr.index)\n",
    "print(sr.values)"
   ]
  },
  {
   "cell_type": "code",
   "execution_count": 47,
   "id": "8ef63a53-ee2c-4c57-b455-d27deb0ff812",
   "metadata": {},
   "outputs": [
    {
     "name": "stdout",
     "output_type": "stream",
     "text": [
      "2018    143\n",
      "2019    150\n",
      "2020    157\n",
      "2021    160\n",
      "Name: Height, dtype: int64\n",
      "150\n",
      "150\n",
      "143\n"
     ]
    }
   ],
   "source": [
    "import pandas as pd\n",
    "height = [143, 150, 157, 160]\n",
    "index=['2018', '2019', '2020', '2021']\n",
    "growth = pd.Series(height, index=index, name=\"Height\")\n",
    "print(growth)\n",
    "print(growth['2019'])\n",
    "# loc[행(문자)], iloc[인덱스(숫자)]\n",
    "print(growth.loc['2019'])\n",
    "print(growth.iloc[0])"
   ]
  },
  {
   "cell_type": "markdown",
   "id": "536fc3df-eef1-4149-bc9d-10161233bb11",
   "metadata": {},
   "source": [
    "### 실습1"
   ]
  },
  {
   "cell_type": "code",
   "execution_count": 58,
   "id": "ff6e22d5-58d6-4723-a94c-343f60635050",
   "metadata": {},
   "outputs": [
    {
     "name": "stdout",
     "output_type": "stream",
     "text": [
      "밀가루     4 cups\n",
      "우유      1 cups\n",
      "계란     2 large\n",
      "참치캔      1 can\n",
      "Name: Dinner, dtype: object\n"
     ]
    }
   ],
   "source": [
    "import pandas as pd\n",
    "quantity = [\"4 cups\", \"1 cups\", \"2 large\", \"1 can\"]\n",
    "ingredients=['밀가루', '우유', '계란', '참치캔']\n",
    "dinner_series = pd.Series(quantity, index=ingredients, name=\"Dinner\")\n",
    "print(dinner_series)\n"
   ]
  }
 ],
 "metadata": {
  "kernelspec": {
   "display_name": "Python 3 (ipykernel)",
   "language": "python",
   "name": "python3"
  },
  "language_info": {
   "codemirror_mode": {
    "name": "ipython",
    "version": 3
   },
   "file_extension": ".py",
   "mimetype": "text/x-python",
   "name": "python",
   "nbconvert_exporter": "python",
   "pygments_lexer": "ipython3",
   "version": "3.12.4"
  }
 },
 "nbformat": 4,
 "nbformat_minor": 5
}
